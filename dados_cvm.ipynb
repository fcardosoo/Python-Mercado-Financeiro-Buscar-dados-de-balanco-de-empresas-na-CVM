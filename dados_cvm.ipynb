{
 "cells": [
  {
   "cell_type": "markdown",
   "id": "f2756bbd",
   "metadata": {},
   "source": [
    "# Projeto para buscar os dados de balanço das empresas listadas na CVM\n",
    "\n",
    "\n"
   ]
  },
  {
   "cell_type": "markdown",
   "id": "719188c6",
   "metadata": {},
   "source": [
    "## 1.Bibliotecas"
   ]
  },
  {
   "cell_type": "code",
   "execution_count": 2,
   "id": "31814988",
   "metadata": {},
   "outputs": [],
   "source": [
    "import pandas as pd\n",
    "import requests\n",
    "import os\n",
    "import zipfile"
   ]
  },
  {
   "cell_type": "code",
   "execution_count": 3,
   "id": "ea5f5aac",
   "metadata": {},
   "outputs": [],
   "source": [
    "diretorio_atual = os.getcwd()\n",
    "\n",
    "os.chdir(f\"{diretorio_atual}/dados_cvm\")"
   ]
  },
  {
   "cell_type": "code",
   "execution_count": null,
   "id": "03680a67",
   "metadata": {},
   "outputs": [],
   "source": [
    "# Período de aquisição dos dados\n",
    "\n",
    "ano = range(2010, 2023)\n",
    "url_base = 'https://dados.cvm.gov.br/dados/CIA_ABERTA/DOC/DFP/DADOS/'\n",
    "\n",
    "for ano in ano:\n",
    "    download = requests.get(url_base + f\"dfp_cia_aberta_{ano}.zip\")\n",
    "    \n",
    "    open(f\"dfp_cia_aberta_{ano}.zip\", \"wb\").write(download.content)"
   ]
  },
  {
   "cell_type": "code",
   "execution_count": null,
   "id": "1321cd19",
   "metadata": {},
   "outputs": [],
   "source": []
  }
 ],
 "metadata": {
  "kernelspec": {
   "display_name": "Python 3 (ipykernel)",
   "language": "python",
   "name": "python3"
  },
  "language_info": {
   "codemirror_mode": {
    "name": "ipython",
    "version": 3
   },
   "file_extension": ".py",
   "mimetype": "text/x-python",
   "name": "python",
   "nbconvert_exporter": "python",
   "pygments_lexer": "ipython3",
   "version": "3.10.9"
  }
 },
 "nbformat": 4,
 "nbformat_minor": 5
}
