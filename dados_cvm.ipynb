{
 "cells": [
  {
   "cell_type": "markdown",
   "id": "86b174f8",
   "metadata": {},
   "source": [
    "# Projeto para buscar os dados de balanço das empresas listadas na CVM\n",
    "\n",
    "\n"
   ]
  },
  {
   "cell_type": "markdown",
   "id": "42060e61",
   "metadata": {},
   "source": [
    "## 1.Bibliotecas"
   ]
  },
  {
   "cell_type": "code",
   "execution_count": 2,
   "id": "a241e105",
   "metadata": {},
   "outputs": [],
   "source": [
    "import pandas as pd\n",
    "import requests\n",
    "import os\n",
    "import zipfile"
   ]
  },
  {
   "cell_type": "code",
   "execution_count": null,
   "id": "ba662ec2",
   "metadata": {},
   "outputs": [],
   "source": [
    "diretorio_atual = os.getcwd()\n",
    "\n",
    "os.chdir(f\"{diretorio_atual}/dados_cvm\")"
   ]
  },
  {
   "cell_type": "code",
   "execution_count": null,
   "id": "a1bf073f",
   "metadata": {},
   "outputs": [],
   "source": []
  }
 ],
 "metadata": {
  "kernelspec": {
   "display_name": "Python 3 (ipykernel)",
   "language": "python",
   "name": "python3"
  },
  "language_info": {
   "codemirror_mode": {
    "name": "ipython",
    "version": 3
   },
   "file_extension": ".py",
   "mimetype": "text/x-python",
   "name": "python",
   "nbconvert_exporter": "python",
   "pygments_lexer": "ipython3",
   "version": "3.10.9"
  }
 },
 "nbformat": 4,
 "nbformat_minor": 5
}
